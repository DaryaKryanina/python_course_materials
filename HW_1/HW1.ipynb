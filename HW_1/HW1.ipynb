{
 "cells": [
  {
   "cell_type": "markdown",
   "metadata": {},
   "source": [
    "# 0. Наибольший общий делитель - 1 балл\n",
    "Напишите функцию, которая на вход принимает два целых числа, а на выходе отдает их наибольших общий делитель. \n",
    "\n",
    "Пример\n",
    "\n",
    "Ввод \n",
    "\n",
    "`lcd(10,2)`\n",
    "\n",
    "Вывод\n",
    "\n",
    "`2`\n",
    "\n",
    "Пример\n",
    "\n",
    "Ввод \n",
    "\n",
    "`lcd(10,25)`\n",
    "\n",
    "Вывод\n",
    "\n",
    "`5`"
   ]
  },
  {
   "cell_type": "code",
   "execution_count": 5,
   "metadata": {},
   "outputs": [
    {
     "data": {
      "text/plain": [
       "2"
      ]
     },
     "execution_count": 5,
     "metadata": {},
     "output_type": "execute_result"
    }
   ],
   "source": [
    "def lcd(a, b):\n",
    "    while b !=0:\n",
    "        (a, b) = (b, a % b)\n",
    "        return a\n",
    "lcd(10,2)"
   ]
  },
  {
   "cell_type": "code",
   "execution_count": 10,
   "metadata": {},
   "outputs": [
    {
     "name": "stdout",
     "output_type": "stream",
     "text": [
      "5\n"
     ]
    }
   ],
   "source": [
    "def lcd(a, b):\n",
    "    while True:\n",
    "        if a != 0 and b!= 0:\n",
    "            if a > b:\n",
    "                a = a % b\n",
    "                continue\n",
    "            else:\n",
    "                b = b % a\n",
    "                continue\n",
    "        else:\n",
    "            print(a+b)\n",
    "            break\n",
    "lcd(10,25)"
   ]
  },
  {
   "cell_type": "markdown",
   "metadata": {},
   "source": [
    "# 1. Задачка про перевод из `camel_case`'a в `snake_case` - 1.5 балла\n",
    " Напишите функцию, которая на вход принимает строку, записанную в `CamelCase`, а переводит ее в `snake_case`.\n",
    " Подсказка: идите по строке циклом, обрабатывайте каждый символ, если символ заглавный, к обработанным ранее добавляйте нижнее подчеркивание и нынешний переводите в `lower case` \n",
    " \n",
    " Пример:\n",
    "\n",
    "**Вход**: `'camelCaseVar'`\n",
    "\n",
    "**Выход**: `'camel_сase_var'`"
   ]
  },
  {
   "cell_type": "code",
   "execution_count": 11,
   "metadata": {},
   "outputs": [
    {
     "data": {
      "text/plain": [
       "'camel_case_var'"
      ]
     },
     "execution_count": 11,
     "metadata": {},
     "output_type": "execute_result"
    }
   ],
   "source": [
    "def changecase(c):\n",
    "    r = str()\n",
    "    for i in c:\n",
    "        if i == i.lower():\n",
    "            r += i\n",
    "        elif i == i.upper():\n",
    "            i = i.lower()\n",
    "            r += '_{}'.format(i)\n",
    "    c = r\n",
    "    return c\n",
    "            \n",
    "changecase('camelCaseVar')"
   ]
  },
  {
   "cell_type": "code",
   "execution_count": 12,
   "metadata": {},
   "outputs": [
    {
     "name": "stdout",
     "output_type": "stream",
     "text": [
      "camel_case_var\n"
     ]
    }
   ],
   "source": [
    "#но можно проще\n",
    "print('_'.join(['camel', 'Case', 'Var']).lower())"
   ]
  },
  {
   "cell_type": "markdown",
   "metadata": {},
   "source": [
    "# 2. Про Поросёнка Петра - 2 балла\n",
    "На плоскости в точке `(0,0)` стоит Поросёнок Пётр. Он умеет ходить налево, направо, вверх и вниз. Расстояние его прохода в какую-либо сторону измеряется в шагах. Когда он идет вправо, его первая координата увеличивается, когда влево - уменьшается. Когда он идет вверх, его вторая координата увеличивается, а когда вниз - уменьшается.\n",
    "С клавиатуры считывается число `N` - число ходов, которые сделает Пётр. После чего на каждом шаге спрашивается, сколько шагов и в какую сторону за этот ход Пётр сделает. Так происходит, пока Пётр не осуществит все N ходов.\n",
    "Программа должна вывести, сколько шагов Пётр должен был бы сделать, чтобы кратчайшим путем прибыть из свое начальной точки `(0,0)` в свою конечную точку. \n",
    "\n",
    "Напоминание: Пётр умеет ходить только вверх-вниз, и влево-вправо, но не по диагонали.\n",
    "\n",
    "Пример ввода:\n",
    "\n",
    "Введите N: `3`\n",
    "\n",
    "Ход 1: `Вверх 1`\n",
    "\n",
    "Ход 2: `Вниз 1`\n",
    "\n",
    "Ход 3: `Вверх 1`\n",
    "\n",
    "Пример вывода:\n",
    "`Пётр находится на расстоянии 1 от (0,0)`"
   ]
  },
  {
   "cell_type": "code",
   "execution_count": 22,
   "metadata": {},
   "outputs": [
    {
     "name": "stdout",
     "output_type": "stream",
     "text": [
      "Введите число ходов, которые сделает Пётр: 3\n",
      "Выберите сторону и кол-во шагов, которые сделает Пётр в формате 'направление{ПРОБЕЛ}число шагов': вниз 2\n",
      "Выберите сторону и кол-во шагов, которые сделает Пётр в формате 'направление{ПРОБЕЛ}число шагов': влево 1\n",
      "Выберите сторону и кол-во шагов, которые сделает Пётр в формате 'направление{ПРОБЕЛ}число шагов': вправо 3\n",
      "Пётр находится на расстоянии 4 от (0,0).\n"
     ]
    }
   ],
   "source": [
    "def Petya(num_steps = int(input(\"Введите число ходов, которые сделает Пётр: \"))):\n",
    "    \"\"\"\n",
    "    функция принимает на вход переменные определенные пользователем:\n",
    "    1. количество ходов, которые должен сделать поросенок.\n",
    "    2. переменная(-ые) с информацией о направлении Петра и количестве шагов в этом направление\n",
    "    функция возвращает минимальное количестов шагов, которые должен сделать Петр,\n",
    "    чтобы попасть из точки (0,0) в конечную точку\n",
    "    \"\"\"\n",
    "    x = 0\n",
    "    y = 0\n",
    "    for i in range(num_steps):\n",
    "        i = input(\"Выберите сторону и кол-во шагов, которые сделает Пётр в формате 'направление{ПРОБЕЛ}число шагов': \")\n",
    "        i = i.split()\n",
    "        if i[0].lower() == 'вверх':\n",
    "             y += int(i[1])\n",
    "        elif i[0].lower() == 'вниз':\n",
    "             y -= int(i[1])\n",
    "        elif i[0].lower() == 'влево':\n",
    "             x -= int(i[1])\n",
    "        elif i[0].lower() == 'вправо':\n",
    "             x += int(i[1])\n",
    "        else:\n",
    "            print('Попробуйте ещё раз.')\n",
    "            continue\n",
    "    if x <= 0:\n",
    "        x = 0-x\n",
    "    if y <= 0:\n",
    "        y = 0-y\n",
    "    return print('Пётр находится на расстоянии {} от (0,0).'.format(x+y))\n",
    "             \n",
    "Petya()"
   ]
  },
  {
   "cell_type": "code",
   "execution_count": null,
   "metadata": {},
   "outputs": [],
   "source": []
  },
  {
   "cell_type": "markdown",
   "metadata": {},
   "source": [
    "# 3. Sort the keys of the dictionary from a to z.  - 0.5 балла"
   ]
  },
  {
   "cell_type": "code",
   "execution_count": 17,
   "metadata": {},
   "outputs": [],
   "source": [
    "d = {\"tiramisu\":5, \"chocolate\":2, \"pudding\":3, \"cheesecake\":4}"
   ]
  },
  {
   "cell_type": "code",
   "execution_count": 18,
   "metadata": {},
   "outputs": [
    {
     "name": "stdout",
     "output_type": "stream",
     "text": [
      "['cheesecake', 'chocolate', 'pudding', 'tiramisu']\n"
     ]
    }
   ],
   "source": [
    "def keys_sorted(d):\n",
    "    d = {\"tiramisu\":5, \"chocolate\":2, \"pudding\":3, \"cheesecake\":4}\n",
    "    return sorted(d.keys())\n",
    "print(keys_sorted(d))"
   ]
  },
  {
   "cell_type": "markdown",
   "metadata": {},
   "source": [
    "# 4. Compare three values, return true only if 2 or more values are equal - 0.5 балла"
   ]
  },
  {
   "cell_type": "code",
   "execution_count": 23,
   "metadata": {},
   "outputs": [
    {
     "name": "stdout",
     "output_type": "stream",
     "text": [
      "Enter value #1:5\n",
      "Enter value #2:7\n",
      "Enter value #3:5\n"
     ]
    },
    {
     "data": {
      "text/plain": [
       "True"
      ]
     },
     "execution_count": 23,
     "metadata": {},
     "output_type": "execute_result"
    }
   ],
   "source": [
    "def compare_values_3(x = (input('Enter value #1:')), y = (input('Enter value #2:')), z = (input('Enter value #3:'))):\n",
    "    if x == y or y==z or z==x:\n",
    "        return True\n",
    "    \n",
    "compare_values_3()"
   ]
  },
  {
   "cell_type": "markdown",
   "metadata": {},
   "source": [
    "# 5. Given a list with pairs, sort on the sum of pairs - 0.5 балла"
   ]
  },
  {
   "cell_type": "code",
   "execution_count": 26,
   "metadata": {},
   "outputs": [
    {
     "name": "stdout",
     "output_type": "stream",
     "text": [
      "[4, 9, 11, 12, 14]\n"
     ]
    }
   ],
   "source": [
    "x = [(3,6),(4,7),(5,9),(8,4),(3,1)]\n",
    "\n",
    "def sort_sum(x = [(3,6),(4,7),(5,9),(8,4),(3,1)]):\n",
    "    spisok = list()\n",
    "    for i, j in x:\n",
    "        ij = i+j\n",
    "        spisok.append(ij)\n",
    "    spisok.sort()\n",
    "    return print(spisok)\n",
    "\n",
    "sort_sum()"
   ]
  },
  {
   "cell_type": "markdown",
   "metadata": {},
   "source": [
    "# 6. Create a function that takes a list of numbers. Return the largest number in the list. - 0.5 балла"
   ]
  },
  {
   "cell_type": "code",
   "execution_count": 45,
   "metadata": {},
   "outputs": [
    {
     "name": "stdout",
     "output_type": "stream",
     "text": [
      "5\n",
      "600\n",
      "1001\n"
     ]
    }
   ],
   "source": [
    "#findLargestNum([4, 5, 1, 3]) ➞ 5\n",
    "\n",
    "#findLargestNum([300, 200, 600, 150]) ➞ 600\n",
    "\n",
    "#findLargestNum([1000, 1001, 857, 1]) ➞ 1001\n",
    "\n",
    "def findLargestNum(arr): \n",
    "    max_ = arr[0]\n",
    "    for element in arr:\n",
    "        if element > max_:\n",
    "            max_ = element\n",
    "    return max_ \n",
    "\n",
    "list1 = [4, 5, 1, 3]\n",
    "list2 = [300, 200, 600, 150]\n",
    "list3 = [1000, 1001, 857, 1]\n",
    "result1 = findLargestNum(list1)\n",
    "result2 = findLargestNum(list2)\n",
    "result3 = findLargestNum(list3)\n",
    "print(result1)\n",
    "print(result2)\n",
    "print(result3)"
   ]
  },
  {
   "cell_type": "markdown",
   "metadata": {},
   "source": [
    "# 7. Create a function that takes a string and returns the concatenated first and last character. - 0.5 балла"
   ]
  },
  {
   "cell_type": "code",
   "execution_count": 44,
   "metadata": {
    "scrolled": true
   },
   "outputs": [
    {
     "name": "stdout",
     "output_type": "stream",
     "text": [
      "ababab\n",
      "kiwi\n",
      "cherrycherry\n"
     ]
    }
   ],
   "source": [
    "#repetition(\"ab\", 3) ➞ \"ababab\"\n",
    "#repetition(\"kiwi\", 1) ➞ \"kiwi\"\n",
    "#repetition(\"cherry\", 2) ➞ \"cherrycherry\"\n",
    "\n",
    "def repetition(x,y):\n",
    "     return print(x*y)\n",
    "\n",
    "repetition(\"ab\", 3)\n",
    "repetition(\"kiwi\", 1)\n",
    "repetition(\"cherry\", 2)"
   ]
  },
  {
   "cell_type": "code",
   "execution_count": 41,
   "metadata": {},
   "outputs": [
    {
     "data": {
      "text/plain": [
       "'ababab'"
      ]
     },
     "execution_count": 41,
     "metadata": {},
     "output_type": "execute_result"
    }
   ],
   "source": [
    "#или использовать lambda:\n",
    "repetition = lambda x, y: x * y\n",
    "repetition(\"ab\", 3)"
   ]
  },
  {
   "cell_type": "markdown",
   "metadata": {},
   "source": [
    "# 8. Create a function that takes a 2D list lst returns the sum of the minimum value in each row. - 0.5 балла"
   ]
  },
  {
   "cell_type": "code",
   "execution_count": null,
   "metadata": {},
   "outputs": [],
   "source": [
    "sum_minimums([\n",
    "  [1, 2, 3, 4, 5],\n",
    "  [5, 6, 7, 8, 9],\n",
    "  [20, 21, 34, 56, 100]\n",
    "] ➞ 26\n",
    "\n",
    "# minimum value of the first row is 1\n",
    "# minimum value of the second row is 5\n",
    "# minimum value of the third row is 20"
   ]
  },
  {
   "cell_type": "code",
   "execution_count": 50,
   "metadata": {},
   "outputs": [
    {
     "name": "stdout",
     "output_type": "stream",
     "text": [
      "26\n"
     ]
    }
   ],
   "source": [
    "def sum_minimums(lists):\n",
    "    summ = 0\n",
    "    for number in lists:\n",
    "        summ += min(number)\n",
    "    return summ\n",
    "\n",
    "minimums = ([\n",
    "  [1, 2, 3, 4, 5],\n",
    "  [5, 6, 7, 8, 9],\n",
    "  [20, 21, 34, 56, 100]\n",
    "])\n",
    "result = sum_minimums(minimums)\n",
    "print(result)\n",
    "    "
   ]
  },
  {
   "cell_type": "markdown",
   "metadata": {},
   "source": [
    "# 9. Create a function to return the amount of potatoes there are in a string. - 0.5 балла"
   ]
  },
  {
   "cell_type": "code",
   "execution_count": null,
   "metadata": {},
   "outputs": [],
   "source": [
    "potatoes(\"potato\") ➞ 1\n",
    "\n",
    "potatoes(\"potatopotato\") ➞ 2\n",
    "\n",
    "potatoes(\"potatoapple\") ➞ 1"
   ]
  },
  {
   "cell_type": "code",
   "execution_count": 53,
   "metadata": {},
   "outputs": [
    {
     "name": "stdout",
     "output_type": "stream",
     "text": [
      "1\n",
      "2\n",
      "1\n"
     ]
    }
   ],
   "source": [
    "def find_potatoe(lst):\n",
    "    print(lst.count('potato'))\n",
    "    \n",
    "find_potatoe(\"potato\")\n",
    "find_potatoe(\"potatopotato\")\n",
    "find_potatoe(\"potatoapple\")"
   ]
  },
  {
   "cell_type": "markdown",
   "metadata": {},
   "source": [
    "# 10. Create a function that takes a list of integers as an argument and returns a unique number from that list. All numbers except unique ones have the same number of occurrences in the list. - 0.5 балла"
   ]
  },
  {
   "cell_type": "code",
   "execution_count": null,
   "metadata": {},
   "outputs": [],
   "source": [
    "find_single_number([2, 2, 2, 3, 4, 4, 4]) ➞ 3\n",
    "\n",
    "find_single_number([2]) ➞ 2\n",
    "\n",
    "find_single_number([]) ➞ None\n",
    "\n",
    "find_single_number([7, 13, 3, 6, 5, 4, 4, 13, 5, 3, 6, 7, 6, 5, 3, 13, 4, 7, 13, 5, 7, 4, 3, 6, 8, 4, 3, 7, 5, 6, 13]) ➞ 8\n",
    "\n",
    "find_single_number([1, 2, 3, 6, 5, 4, 4, 2, 5, 3, 6, 1, 6, 5, 3, 2, 4, 1, 2, 5, 1, 4, 3, 6, 101, 4, 3, 1, 5, 6, 2]) ➞ 101"
   ]
  },
  {
   "cell_type": "code",
   "execution_count": 55,
   "metadata": {},
   "outputs": [
    {
     "name": "stdout",
     "output_type": "stream",
     "text": [
      "3\n",
      "2\n",
      "8\n",
      "101\n"
     ]
    }
   ],
   "source": [
    "def find_single_number(lst):\n",
    "    for i in lst:\n",
    "        if lst.count(i) == 1:\n",
    "            return print(i)\n",
    "        \n",
    "find_single_number([2, 2, 2, 3, 4, 4, 4])\n",
    "find_single_number([2])\n",
    "find_single_number([])\n",
    "find_single_number([7, 13, 3, 6, 5, 4, 4, 13, 5, 3, 6, 7, 6, 5, 3, 13, 4, 7, 13, 5, 7, 4, 3, 6, 8, 4, 3, 7, 5, 6, 13])\n",
    "find_single_number([1, 2, 3, 6, 5, 4, 4, 2, 5, 3, 6, 1, 6, 5, 3, 2, 4, 1, 2, 5, 1, 4, 3, 6, 101, 4, 3, 1, 5, 6, 2])"
   ]
  },
  {
   "cell_type": "markdown",
   "metadata": {},
   "source": [
    "# 11. Given a letter and a list of words, return whether the letter does not appear in any of the words. - 0.5 балла"
   ]
  },
  {
   "cell_type": "code",
   "execution_count": null,
   "metadata": {},
   "outputs": [],
   "source": [
    "forbidden_letter(\"r\", [\"rock\", \"paper\", \"scissors\"]) ➞ False\n",
    "\n",
    "forbidden_letter(\"a\", [\"spoon\", \"fork\", \"knife\"]) ➞ True\n",
    "\n",
    "forbidden_letter(\"m\", []) ➞ True"
   ]
  },
  {
   "cell_type": "code",
   "execution_count": 87,
   "metadata": {},
   "outputs": [
    {
     "name": "stdout",
     "output_type": "stream",
     "text": [
      "False\n",
      "False\n",
      "False\n",
      "False\n",
      "False\n",
      "False\n"
     ]
    }
   ],
   "source": [
    "#тут пыталась по такой логике сделать, но не выходит :(\n",
    "\n",
    "def forbidden_letter(x, y):\n",
    "    for x in y:\n",
    "        if y.count(x) == 1:\n",
    "            print('False')\n",
    "        if y.count(x) == 0:\n",
    "            print('True')\n",
    "\n",
    "forbidden_letter(\"r\", [\"rock\", \"paper\", \"scissors\"])\n",
    "forbidden_letter(\"a\", [\"spoon\", \"fork\", \"knife\"])\n",
    "forbidden_letter(\"m\", [])"
   ]
  },
  {
   "cell_type": "code",
   "execution_count": null,
   "metadata": {},
   "outputs": [],
   "source": [
    "#дальше правильное решение"
   ]
  },
  {
   "cell_type": "code",
   "execution_count": 102,
   "metadata": {},
   "outputs": [
    {
     "data": {
      "text/plain": [
       "False"
      ]
     },
     "execution_count": 102,
     "metadata": {},
     "output_type": "execute_result"
    }
   ],
   "source": [
    "#False, если есть буква в списке, True - если ее нет:\n",
    "# x - letter; y - list\n",
    "\n",
    "def forbidden_letter(x, y):\n",
    "    for i in y:\n",
    "        if x not in i:\n",
    "            return True\n",
    "    return False\n",
    "\n",
    "forbidden_letter(\"r\", [\"rock\", \"paper\", \"scissors\"])"
   ]
  },
  {
   "cell_type": "code",
   "execution_count": 103,
   "metadata": {},
   "outputs": [
    {
     "data": {
      "text/plain": [
       "True"
      ]
     },
     "execution_count": 103,
     "metadata": {},
     "output_type": "execute_result"
    }
   ],
   "source": [
    "forbidden_letter(\"a\", [\"spoon\", \"fork\", \"knife\"])"
   ]
  },
  {
   "cell_type": "code",
   "execution_count": 104,
   "metadata": {},
   "outputs": [
    {
     "data": {
      "text/plain": [
       "False"
      ]
     },
     "execution_count": 104,
     "metadata": {},
     "output_type": "execute_result"
    }
   ],
   "source": [
    "forbidden_letter(\"m\", [])"
   ]
  },
  {
   "cell_type": "markdown",
   "metadata": {},
   "source": [
    "# 12.  Define a function which create a Pattern like this one.  - 2 балла"
   ]
  },
  {
   "cell_type": "code",
   "execution_count": null,
   "metadata": {},
   "outputs": [],
   "source": [
    "Input: 4\n",
    "Pattern:\n",
    "\n",
    " 01234\n",
    "  | |     0\n",
    " -----    1\n",
    "  | |     2\n",
    " -----    3\n",
    "  | |     4"
   ]
  },
  {
   "cell_type": "code",
   "execution_count": 88,
   "metadata": {},
   "outputs": [
    {
     "name": "stdout",
     "output_type": "stream",
     "text": [
      "01234\n",
      " | |  0\n",
      "----- 1\n",
      " | |  2\n",
      "----- 3\n",
      " | |  4\n"
     ]
    }
   ],
   "source": [
    "def pattern(a):\n",
    "    b = a + 1\n",
    "    for i in range(b):\n",
    "        print(i, end = \"\")\n",
    "    print()\n",
    "    for i in range(b):\n",
    "        for j in range(b):\n",
    "            if i % 2 == 0:\n",
    "                if j % 2 != 0:\n",
    "                    print(\"|\", end = '')\n",
    "                else:\n",
    "                    print(\" \", end = '')\n",
    "            else:\n",
    "                print(\"-\", end = '')\n",
    "        print(\" \" + str(i))\n",
    "    return\n",
    "pattern(4)"
   ]
  },
  {
   "cell_type": "markdown",
   "metadata": {},
   "source": [
    "# 13. Create a function that takes three numbers as arguments and returns True if it's a triangle and False if not.  - 0.5 балла"
   ]
  },
  {
   "cell_type": "code",
   "execution_count": null,
   "metadata": {},
   "outputs": [],
   "source": [
    "is_triangle(2, 3, 4) ➞ True\n",
    "\n",
    "is_triangle(3, 4, 5) ➞ True\n",
    "\n",
    "is_triangle(4, 3, 8) ➞ False"
   ]
  },
  {
   "cell_type": "code",
   "execution_count": 91,
   "metadata": {},
   "outputs": [
    {
     "data": {
      "text/plain": [
       "True"
      ]
     },
     "execution_count": 91,
     "metadata": {},
     "output_type": "execute_result"
    }
   ],
   "source": [
    "def is_triangle(a, b, c):\n",
    "    if a + b > c and a + c > b and b + c > a:\n",
    "        return True\n",
    "    return False\n",
    "\n",
    "is_triangle(2, 3, 4)"
   ]
  },
  {
   "cell_type": "code",
   "execution_count": 92,
   "metadata": {},
   "outputs": [
    {
     "data": {
      "text/plain": [
       "True"
      ]
     },
     "execution_count": 92,
     "metadata": {},
     "output_type": "execute_result"
    }
   ],
   "source": [
    "is_triangle(3, 4, 5)"
   ]
  },
  {
   "cell_type": "code",
   "execution_count": 93,
   "metadata": {},
   "outputs": [
    {
     "data": {
      "text/plain": [
       "False"
      ]
     },
     "execution_count": 93,
     "metadata": {},
     "output_type": "execute_result"
    }
   ],
   "source": [
    "is_triangle(4, 3, 8)"
   ]
  },
  {
   "cell_type": "markdown",
   "metadata": {},
   "source": [
    "# 14. Create a \"Code\" Generator that takes text as input and replaces some letter with another letter, and outputs the \"encoded\" message. Create funcs to encode and decode messages"
   ]
  },
  {
   "cell_type": "code",
   "execution_count": null,
   "metadata": {},
   "outputs": [],
   "source": [
    "replacement = {\"a\": \"b\", \"d\": \"1\" ......}"
   ]
  },
  {
   "cell_type": "code",
   "execution_count": 116,
   "metadata": {},
   "outputs": [],
   "source": [
    "text = \"hop hey la la ley\"\n",
    "code = {\"a\": \"b\", \"h\": \"1\", \"l\": \"4\", \"p\": \"FFF\", \"o\": \"8\", \"y\": \"K\"}"
   ]
  },
  {
   "cell_type": "code",
   "execution_count": 117,
   "metadata": {},
   "outputs": [],
   "source": [
    "text = \"hop hey la la ley\"\n",
    "code = {\"b\": \"a\", \"1\": \"h\", \"4\": \"l\", \"FFF\": \"p\", \"8\": \"o\", \"K\": \"y\"}"
   ]
  },
  {
   "cell_type": "code",
   "execution_count": 123,
   "metadata": {},
   "outputs": [
    {
     "name": "stdout",
     "output_type": "stream",
     "text": [
      "18p 1eK 4b 4b 4eK\n"
     ]
    }
   ],
   "source": [
    "text = \"hop hey la la ley\"\n",
    "code = {\"a\": \"b\", \"h\": \"1\", \"l\": \"4\", \"o\": \"8\", \"y\": \"K\"}\n",
    "\n",
    "encoded = \"\"\n",
    "for i in range(0, len(text)):\n",
    "    if text[i] in code.keys():\n",
    "        encoded += code[text[i]]\n",
    "    else:\n",
    "        encoded += text[i]\n",
    "print(encoded)"
   ]
  },
  {
   "cell_type": "code",
   "execution_count": 124,
   "metadata": {},
   "outputs": [
    {
     "name": "stdout",
     "output_type": "stream",
     "text": [
      "hop hey la la ley\n"
     ]
    }
   ],
   "source": [
    "code = {\"b\": \"a\", \"1\": \"h\", \"4\": \"l\", \"8\": \"o\", \"K\": \"y\"}\n",
    "decoded = \"\"\n",
    "for i in range(0, len(encoded)):\n",
    "    if encoded[i] in code.keys():\n",
    "        decoded += code[encoded[i]]\n",
    "    else:\n",
    "        decoded += encoded[i]\n",
    "print(decoded)"
   ]
  }
 ],
 "metadata": {
  "kernelspec": {
   "display_name": "Python 3",
   "language": "python",
   "name": "python3"
  },
  "language_info": {
   "codemirror_mode": {
    "name": "ipython",
    "version": 3
   },
   "file_extension": ".py",
   "mimetype": "text/x-python",
   "name": "python",
   "nbconvert_exporter": "python",
   "pygments_lexer": "ipython3",
   "version": "3.7.0"
  }
 },
 "nbformat": 4,
 "nbformat_minor": 5
}
