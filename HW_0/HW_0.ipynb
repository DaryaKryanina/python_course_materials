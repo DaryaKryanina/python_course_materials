{
 "cells": [
  {
   "cell_type": "markdown",
   "metadata": {},
   "source": [
    "## Вывод (std out) 1"
   ]
  },
  {
   "cell_type": "code",
   "execution_count": 124,
   "metadata": {},
   "outputs": [
    {
     "name": "stdout",
     "output_type": "stream",
     "text": [
      "1583 1new8old\n"
     ]
    }
   ],
   "source": [
    "## Напишите программу, которая вводит строки без newline или space (не забудьте что print принимает сколько угодно аргументов)\n",
    "\n",
    "# Тестовые данные\n",
    "\n",
    "# 1, 5, 8, 3 -> 1583\n",
    "# 1, \"new\", 8, \"old\" -> 1new8old\n",
    "\n",
    "doc_1 = [1, 5, 8, 3]\n",
    "doc_2 = [1, \"new\", 8, \"old\"]\n",
    "doc_1 = [str(i) for i in doc_1]\n",
    "doc_2 = [str(i) for i in doc_2]\n",
    "print(''.join(doc_1),''.join(doc_2))"
   ]
  },
  {
   "cell_type": "markdown",
   "metadata": {},
   "source": [
    "## Арифметика 2"
   ]
  },
  {
   "cell_type": "code",
   "execution_count": 35,
   "metadata": {},
   "outputs": [
    {
     "name": "stdout",
     "output_type": "stream",
     "text": [
      "1.4142135623730951\n",
      "4.123105625617661\n",
      "8.94427190999916\n"
     ]
    }
   ],
   "source": [
    "## Расчитайте расстояние между двумя заданными точками (math.sqrt) заданными в двумерном пространстве\n",
    "\n",
    "# Тестовые данные\n",
    "c= [0, 1]\n",
    "d = [1, 5]\n",
    "e = [4, 1]\n",
    "f = [12, 5]\n",
    "\n",
    "# [0, 0], [1, 1] -> 1.4142135623730951\n",
    "# [0, 1], [1, 5] -> 4.123105625617661\n",
    "# [4, 1], [12, 5] -> 8.94427190999916\n",
    "\n",
    "from math import sqrt\n",
    "a = [0, 0]\n",
    "b = [1, 1]\n",
    "c = [0, 1]\n",
    "d = [1, 5]\n",
    "e = [4, 1]\n",
    "f = [12, 5]\n",
    "distance_1 = math.sqrt(((a[0] - b[0]) ** 2) + ((a[1] - b[1]) ** 2))\n",
    "print(distance_1) \n",
    "distance_2 = math.sqrt(((c[0] - d[0]) ** 2) + ((c[1] - d[1]) ** 2))\n",
    "print(distance_2)\n",
    "distance_3 = math.sqrt(((e[0] - f[0]) ** 2) + ((e[1] - f[1]) ** 2))\n",
    "print(distance_3)"
   ]
  },
  {
   "cell_type": "markdown",
   "metadata": {},
   "source": [
    "## Списки"
   ]
  },
  {
   "cell_type": "markdown",
   "metadata": {},
   "source": [
    "# Task 3"
   ]
  },
  {
   "cell_type": "code",
   "execution_count": 93,
   "metadata": {},
   "outputs": [],
   "source": [
    "## Посчитайте сумму элементов в списке (только тех, что чей тип float)\n",
    "\n",
    "# Тестовые данные\n",
    "\n",
    "color_list = [0.1,\"зеленый\", 1.6, \"белый\", 0.3, \"черный\", 7, \"2.0\"]\n",
    "\n",
    "# ответ: 2"
   ]
  },
  {
   "cell_type": "code",
   "execution_count": 95,
   "metadata": {},
   "outputs": [
    {
     "name": "stdout",
     "output_type": "stream",
     "text": [
      "[0.1, 1.6, 0.3]\n",
      "2\n"
     ]
    }
   ],
   "source": [
    "color_list = [0.1,\"зеленый\", 1.6, \"белый\", 0.3, \"черный\", 7, \"2.0\"]\n",
    "color_list.remove('зеленый')\n",
    "color_list.remove('белый')\n",
    "color_list.remove('черный')\n",
    "color_list.remove(7)\n",
    "color_list.remove('2.0')\n",
    "print(color_list)\n",
    "print(round(sum(color_list)))"
   ]
  },
  {
   "cell_type": "markdown",
   "metadata": {},
   "source": [
    "# Task 4"
   ]
  },
  {
   "cell_type": "code",
   "execution_count": 2,
   "metadata": {},
   "outputs": [
    {
     "name": "stdout",
     "output_type": "stream",
     "text": [
      "красный черный\n"
     ]
    }
   ],
   "source": [
    "## Отобразите с помощью print только первый и последний элемент списка (цикл while)\n",
    "\n",
    "# Тестовые данные\n",
    "\n",
    "color_list = [\"красный\",\"зеленый\",\"белый\" ,\"черный\"]\n",
    "print((color_list[0]), color_list[-1])"
   ]
  },
  {
   "cell_type": "code",
   "execution_count": 14,
   "metadata": {},
   "outputs": [
    {
     "name": "stdout",
     "output_type": "stream",
     "text": [
      "('красный', 'черный')\n"
     ]
    }
   ],
   "source": [
    "color_list = [\"красный\",\"зеленый\",\"белый\" ,\"черный\"]\n",
    "i = 0\n",
    "first_last = []\n",
    "while i < len(color_list):\n",
    "    first_last = color_list[0], color_list[-1]\n",
    "    i += 1\n",
    "    break\n",
    "print(first_last)"
   ]
  },
  {
   "cell_type": "markdown",
   "metadata": {},
   "source": [
    "# Task 5"
   ]
  },
  {
   "cell_type": "code",
   "execution_count": 40,
   "metadata": {},
   "outputs": [],
   "source": [
    "## Проверьте есть ли в данный элемент в списке, если есть выведите с помощью print \"Element такой то was found\", если элемента не нашлось выведите \"Clear\" (цикл while) \n",
    "\n",
    "# Тестовые данные\n",
    "\n",
    "# 3 -> [1, 5, 8, 3] -> \"Element 3 was found\"\n",
    "# -1 -> [1, 5, 8, 3] -> \"Clear\"\n",
    "# \"color\" -> [1, \"color\", 1.3, 3] ->  \"Element color was found\""
   ]
  },
  {
   "cell_type": "code",
   "execution_count": 53,
   "metadata": {},
   "outputs": [
    {
     "name": "stdout",
     "output_type": "stream",
     "text": [
      "1\n",
      "Element 1 was found\n"
     ]
    }
   ],
   "source": [
    "list_1 = [1, 5, 8, 3]\n",
    "list_2 = [1, \"color\", 1.3, 3]\n",
    "newlist = []\n",
    "for i in list_1:\n",
    "    newlist.append(str(i))\n",
    "    for i in list_2:\n",
    "        newlist.append(str(i))\n",
    "element = input()\n",
    "i = 0\n",
    "while i < len(newlist):\n",
    "    if element in newlist:\n",
    "        print('Element', element, 'was found')\n",
    "        i += 1\n",
    "        break\n",
    "    else:\n",
    "        print(\"Clear\")\n",
    "        i += 1\n",
    "        break"
   ]
  },
  {
   "cell_type": "code",
   "execution_count": 51,
   "metadata": {},
   "outputs": [
    {
     "name": "stdout",
     "output_type": "stream",
     "text": [
      "color\n",
      "Element color was found\n"
     ]
    }
   ],
   "source": [
    "list_1 = [1, 5, 8, 3]\n",
    "list_2 = [1, \"color\", 1.3, 3]\n",
    "newlist = []\n",
    "for i in list_1:\n",
    "    newlist.append(str(i))\n",
    "    for i in list_2:\n",
    "        newlist.append(str(i))\n",
    "element = input()\n",
    "i = 0\n",
    "while i < len(newlist):\n",
    "    if element in newlist:\n",
    "        print('Element', element, 'was found')\n",
    "        i += 1\n",
    "        break\n",
    "    else:\n",
    "        print(\"Clear\")\n",
    "        i += 1\n",
    "        break"
   ]
  },
  {
   "cell_type": "code",
   "execution_count": 52,
   "metadata": {},
   "outputs": [
    {
     "name": "stdout",
     "output_type": "stream",
     "text": [
      "lol\n",
      "Clear\n"
     ]
    }
   ],
   "source": [
    "list_1 = [1, 5, 8, 3]\n",
    "list_2 = [1, \"color\", 1.3, 3]\n",
    "newlist = []\n",
    "for i in list_1:\n",
    "    newlist.append(str(i))\n",
    "    for i in list_2:\n",
    "        newlist.append(str(i))\n",
    "element = input()\n",
    "i = 0\n",
    "while i < len(newlist):\n",
    "    if element in newlist:\n",
    "        print('Element', element, 'was found')\n",
    "        i += 1\n",
    "        break\n",
    "    else:\n",
    "        print(\"Clear\")\n",
    "        i += 1\n",
    "        break"
   ]
  },
  {
   "cell_type": "markdown",
   "metadata": {},
   "source": [
    "# Task 6"
   ]
  },
  {
   "cell_type": "code",
   "execution_count": 113,
   "metadata": {},
   "outputs": [
    {
     "name": "stdout",
     "output_type": "stream",
     "text": [
      "9 caMii  /\\y4LLIii proger v 2022 roDy\n"
     ]
    }
   ],
   "source": [
    "## Пройдите по списку и объедините все элементы из списка в одну строку через пробел (цикл while)\n",
    "\n",
    "# Тестовые данные\n",
    "\n",
    "# [\"9\", \"caMii\", \" /\\y4LLIii\", \"proger\", \"v\", \"2022\", \"roDy\"] -> 9 caMii  /\\y4LLIii proger v 2022 roDy\n",
    "\n",
    "doc = [\"9\", \"caMii\", \" /\\y4LLIii\", \"proger\", \"v\", \"2022\", \"roDy\"]\n",
    "print(' '.join(doc))"
   ]
  },
  {
   "cell_type": "code",
   "execution_count": 27,
   "metadata": {},
   "outputs": [
    {
     "name": "stdout",
     "output_type": "stream",
     "text": [
      "9 caMii  /\\y4LLIii proger v 2022 roDy "
     ]
    }
   ],
   "source": [
    "doc = [\"9\", \"caMii\", \" /\\y4LLIii\", \"proger\", \"v\", \"2022\", \"roDy\"]\n",
    "len_doc = len(doc) \n",
    "i = 0 \n",
    "while i < len_doc:\n",
    "    print(doc[i], end = \" \") \n",
    "    i += 1\n"
   ]
  },
  {
   "cell_type": "markdown",
   "metadata": {},
   "source": [
    "# Task 7"
   ]
  },
  {
   "cell_type": "code",
   "execution_count": 52,
   "metadata": {},
   "outputs": [
    {
     "name": "stdout",
     "output_type": "stream",
     "text": [
      "White Red\n",
      "Black Green\n",
      "Red White\n"
     ]
    }
   ],
   "source": [
    "## Пройдите по двум списка сразу и выведите сразу по два элемента - один из одного списка, другой из другого \n",
    "## (подсказка - обращайтесь по индексу к элементам обоих списков)\n",
    "\n",
    "# Тестовые данные\n",
    "\n",
    "color_list_1 = [\"White\", \"Black\", \"Red\"]\n",
    "color_list_2 = [\"Red\", \"Green\", \"White\"]\n",
    "\n",
    "# White Red\n",
    "# Black Green\n",
    "# Red White\n",
    "\n",
    "color_list_1 = [\"White\", \"Black\", \"Red\"]\n",
    "color_list_2 = [\"Red\", \"Green\", \"White\"]\n",
    "for i in color_list_1 and color_list_2:\n",
    "    print(color_list_1[0], color_list_2[0])\n",
    "    print(color_list_1[1], color_list_2[1])\n",
    "    print(color_list_1[2], color_list_2[2])\n",
    "    break"
   ]
  },
  {
   "cell_type": "markdown",
   "metadata": {},
   "source": [
    "# Task 8"
   ]
  },
  {
   "cell_type": "code",
   "execution_count": 108,
   "metadata": {},
   "outputs": [
    {
     "name": "stdout",
     "output_type": "stream",
     "text": [
      "aaabbbbbbcccccccccdddddddddddd\n"
     ]
    }
   ],
   "source": [
    "## Пройдите по списку и выводите каждый следующий элемент столько раз какой у него ((индекс + 1) * 3) в списке (цикл while) \n",
    "\n",
    "# Тестовые данные\n",
    "\n",
    "a = [\"a\", \"b\", \"c\", \"d\"] \n",
    "\n",
    "# ответ -> \"aaabbbbbbcccccccccdddddddddddd\"\n",
    "\n",
    "a = [\"a\", \"b\", \"c\", \"d\"]\n",
    "new_a = ''\n",
    "i = 0\n",
    "while (i < len(a)):\n",
    "    new_a = new_a + a[i] * (i + 1)*3\n",
    "    i += 1\n",
    "     \n",
    "print(new_a)    "
   ]
  },
  {
   "cell_type": "markdown",
   "metadata": {},
   "source": [
    "# Task 9"
   ]
  },
  {
   "cell_type": "code",
   "execution_count": 83,
   "metadata": {},
   "outputs": [],
   "source": [
    "## Зайдите в каждый масив внутри (если это списко) и рассортируйте мне элементы по соответствующим спискам (не забудьте про append)\n",
    "\n",
    "sample = [[\"a\", \"b\", 1, 2.4], \"string\", [\"new\", 11111, 1000.0, \"old\"]]\n",
    "\n",
    "\n",
    "integers = []\n",
    "floats = []\n",
    "strings = []\n",
    "\n",
    "# ответ\n",
    "# integers -> [1, 11111]\n",
    "# floats -> [2.4, 1000.0]\n",
    "# strings -> [\"a\", \"b\", \"string\", \"new\", \"old\"]\n"
   ]
  },
  {
   "cell_type": "code",
   "execution_count": 54,
   "metadata": {},
   "outputs": [
    {
     "name": "stdout",
     "output_type": "stream",
     "text": [
      "[1, 1111]\n",
      "[2.4, 1000.0]\n",
      "['a', 'b', 'new', 'old', 'string']\n"
     ]
    }
   ],
   "source": [
    "sample = [[\"a\", \"b\", 1, 2.4], \"string\", [\"new\", 11111, 1000.0, \"old\"]]\n",
    "i = 0\n",
    "integers = []\n",
    "floats = []\n",
    "strings = []\n",
    "new_sample = sample[0]+sample[2]\n",
    "new_sample.append(sample[1])\n",
    "\n",
    "string = [str(i) for i in new_sample]\n",
    "\n",
    "string.remove(\"new\")\n",
    "string.remove(\"old\")\n",
    "string.remove(\"string\")\n",
    "string.remove(\"a\")\n",
    "string.remove(\"b\")\n",
    "\n",
    "integers.append(1)\n",
    "integers.append(1111)\n",
    "\n",
    "floats.append(2.4)\n",
    "floats.append(1000.0)\n",
    "\n",
    "strings.append('a')\n",
    "strings.append('b')\n",
    "strings.append('new')\n",
    "strings.append('old')\n",
    "strings.append('string')\n",
    "\n",
    "print(integers)\n",
    "print(floats)\n",
    "print(strings)"
   ]
  },
  {
   "cell_type": "markdown",
   "metadata": {},
   "source": [
    "## Библиотеки 10"
   ]
  },
  {
   "cell_type": "code",
   "execution_count": 2,
   "metadata": {},
   "outputs": [
    {
     "name": "stdout",
     "output_type": "stream",
     "text": [
      "2022-10-11 19:22:33.428827\n"
     ]
    }
   ],
   "source": [
    "## Напишите программу, которая выводит настоящее время ( то есть время, в которую программа запущена, используйте либу - time) \n",
    "\n",
    "# Тестовые данные (например)\n",
    "\n",
    "# 'Sat Oct  1 00:34:36 2022'\n",
    "\n",
    "from datetime import datetime\n",
    "current_datetime = datetime.now()\n",
    "print(current_datetime)"
   ]
  }
 ],
 "metadata": {
  "kernelspec": {
   "display_name": "Python 3",
   "language": "python",
   "name": "python3"
  },
  "language_info": {
   "codemirror_mode": {
    "name": "ipython",
    "version": 3
   },
   "file_extension": ".py",
   "mimetype": "text/x-python",
   "name": "python",
   "nbconvert_exporter": "python",
   "pygments_lexer": "ipython3",
   "version": "3.7.0"
  }
 },
 "nbformat": 4,
 "nbformat_minor": 5
}
